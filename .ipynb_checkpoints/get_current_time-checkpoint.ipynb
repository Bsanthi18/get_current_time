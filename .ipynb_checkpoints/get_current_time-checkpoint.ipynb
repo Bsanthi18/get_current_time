{
 "cells": [
  {
   "cell_type": "code",
   "execution_count": 2,
   "id": "4c773a43",
   "metadata": {},
   "outputs": [],
   "source": [
    "import requests\n",
    "\n",
    "from bs4 import BeautifulSoup\n",
    "\n",
    "import pandas as pd\n",
    "url=\"https://stackoverflow.com/questions/415511/how-do-i-get-the-current-time-in-python\""
   ]
  },
  {
   "cell_type": "code",
   "execution_count": 3,
   "id": "efa216f6",
   "metadata": {},
   "outputs": [],
   "source": [
    "response=requests.get(url)"
   ]
  },
  {
   "cell_type": "code",
   "execution_count": 4,
   "id": "3d8289ba",
   "metadata": {},
   "outputs": [
    {
     "name": "stdout",
     "output_type": "stream",
     "text": [
      "<class 'bytes'>\n"
     ]
    }
   ],
   "source": [
    "print(type(response.content))"
   ]
  },
  {
   "cell_type": "code",
   "execution_count": 6,
   "id": "f0464f99",
   "metadata": {},
   "outputs": [],
   "source": [
    "soup=BeautifulSoup(response.content,'html.parser')"
   ]
  },
  {
   "cell_type": "code",
   "execution_count": 7,
   "id": "f207af40",
   "metadata": {},
   "outputs": [],
   "source": [
    "qns=[]\n",
    "\n",
    "for i in soup.select('h1',class_='answercell post-layout--right'):\n",
    "    qns.append(i.text)"
   ]
  },
  {
   "cell_type": "code",
   "execution_count": 9,
   "id": "42b48775",
   "metadata": {},
   "outputs": [
    {
     "data": {
      "text/plain": [
       "['How do I get the current time in Python?',\n",
       " 'How do I get the current time in Python?',\n",
       " '\\n                Subscribe to RSS\\n            ']"
      ]
     },
     "execution_count": 9,
     "metadata": {},
     "output_type": "execute_result"
    }
   ],
   "source": [
    "qns"
   ]
  },
  {
   "cell_type": "code",
   "execution_count": 10,
   "id": "a949e7ab",
   "metadata": {},
   "outputs": [],
   "source": [
    "ans=[]\n",
    "for i in soup.select('p',class_='answercell post-layout--right')[8:]:\n",
    "    ans.append(i.text)"
   ]
  },
  {
   "cell_type": "code",
   "execution_count": 11,
   "id": "b9c47ea2",
   "metadata": {},
   "outputs": [
    {
     "data": {
      "text/plain": [
       "['How do I get the current time in Python?',\n",
       " 'Use datetime:',\n",
       " 'For just the clock time without the date:',\n",
       " 'To save typing, you can import the datetime object from the datetime module:',\n",
       " 'Then remove the prefix datetime. from all of the above.',\n",
       " 'Use time.strftime():',\n",
       " \"Example output: '2013-09-18 11:16:32'\",\n",
       " 'See list of strftime directives.',\n",
       " \"Similar to Harley's answer, but use the str() function for a quick-n-dirty, slightly more human readable format:\",\n",
       " 'The time module provides functions that tell us the time in \"seconds since the epoch\" as well as other utilities.',\n",
       " \"This is the format you should get timestamps in for saving in databases. It is a simple floating-point number that can be converted to an integer. It is also good for arithmetic in seconds, as it represents the number of seconds since Jan 1, 1970, 00:00:00, and it is memory light relative to the other representations of time we'll be looking at next:\",\n",
       " \"This timestamp does not account for leap-seconds, so it's not linear - leap seconds are ignored. So while it is not equivalent to the international UTC standard, it is close, and therefore quite good for most cases of record-keeping.\",\n",
       " \"This is not ideal for human scheduling, however. If you have a future event you wish to take place at a certain point in time, you'll want to store that time with a string that can be parsed into a datetime object or a serialized datetime object (these will be described later).\",\n",
       " \"You can also represent the current time in the way preferred by your operating system (which means it can change when you change your system preferences, so don't rely on this to be standard across all systems, as I've seen others expect). This is typically user friendly, but doesn't typically result in strings one can sort chronologically:\",\n",
       " 'You can hydrate timestamps into human readable form with ctime as well:',\n",
       " 'This conversion is also not good for record-keeping (except in text that will only be parsed by humans - and with improved Optical Character Recognition and Artificial Intelligence, I think the number of these cases will diminish).',\n",
       " 'The datetime module is also quite useful here:',\n",
       " 'The datetime.now is a class method that returns the current time. It uses the time.localtime without the timezone info (if not given, otherwise see timezone aware below). It has a representation (which would allow you to recreate an equivalent object) echoed on the shell, but when printed (or coerced to a str), it is in human readable (and nearly ISO) format, and the lexicographic sort is equivalent to the chronological sort:',\n",
       " 'You can get a datetime object in UTC time, a global standard, by doing this:',\n",
       " 'UTC is a time standard that is nearly equivalent to the GMT timezone. (While GMT and UTC do not change for Daylight Savings Time, their users may switch to other timezones, like British Summer Time, during the Summer.)',\n",
       " \"However, none of the datetime objects we've created so far can be easily converted to various timezones. We can solve that problem with the pytz module:\",\n",
       " 'Equivalently, in Python 3 we have the timezone class with a utc timezone instance attached, which also makes the object timezone aware (but to convert to another timezone without the handy pytz module is left as an exercise to the reader):',\n",
       " 'And we see we can easily convert to timezones from the original UTC object.',\n",
       " 'You can also make a naive datetime object aware with the pytz timezone localize method, or by replacing the tzinfo attribute (with replace, this is done blindly), but these are more last resorts than best practices:',\n",
       " 'The pytz module allows us to make our datetime objects timezone aware and convert the times to the hundreds of timezones available in the pytz module.',\n",
       " 'One could ostensibly serialize this object for UTC time and store that in a database, but it would require far more memory and be more prone to error than simply storing the Unix Epoch time, which I demonstrated first.',\n",
       " 'The other ways of viewing times are much more error-prone, especially when dealing with data that may come from different time zones. You want there to be no confusion as to which timezone a string or serialized datetime object was intended for.',\n",
       " \"If you're displaying the time with Python for the user, ctime works nicely, not in a table (it doesn't typically sort well), but perhaps in a clock. However, I personally recommend, when dealing with time in Python, either using Unix time, or a timezone aware UTC datetime object.\",\n",
       " 'Do',\n",
       " 'There is some difference for Unix and Windows platforms.',\n",
       " 'That outputs the current GMT in the specified format. There is also a localtime() method. ',\n",
       " 'This page has more details.',\n",
       " 'The previous answers are all good suggestions, but I find it easiest to use ctime():',\n",
       " 'This gives a nicely formatted string representation of the current local time. ',\n",
       " 'The quickest way is:',\n",
       " 'If you need current time as a time object:',\n",
       " 'You can use the time module:',\n",
       " 'The use of the capital Y gives the full year, and using y would give 06/02/15.',\n",
       " 'You could also use the following code to give a more lengthy time:',\n",
       " \".isoformat() is in the documentation, but not yet here\\n(this is mighty similar to @Ray Vega's answer):\",\n",
       " 'Why not ask the U.S. Naval Observatory, the official timekeeper of the United States Navy?',\n",
       " 'If you live in the D.C. area (like me) the latency might not be too bad...',\n",
       " 'Using pandas to get the current time, kind of overkilling the problem at hand:',\n",
       " 'Output:',\n",
       " 'if you are using numpy already then directly you can use numpy.datetime64() \\nfunction.',\n",
       " 'for only date:',\n",
       " 'or, if you are using pandas already then you can use pandas.to_datetime() function',\n",
       " 'or,',\n",
       " 'This is what I ended up going with: ',\n",
       " 'Also, this table is a necessary reference for choosing the appropriate format codes to get the date formatted just the way you want it (from Python \"datetime\" documentation here).',\n",
       " '',\n",
       " 'datetime.now() returns the current time as a naive datetime object that represents time in the local timezone. That value may be ambiguous e.g., during DST transitions (\"fall back\"). To avoid ambiguity either UTC timezone should be used:',\n",
       " 'Or a timezone-aware object that has the corresponding timezone info attached (Python 3.2+):',\n",
       " 'Do dir(date) or any variables including the package. You can get all the attributes and methods associated with the variable.',\n",
       " \"This question doesn't need a new answer just for the sake of it ... a shiny new-ish toy/module, however, is enough justification.  That being the Pendulum library, which appears to do the sort of things which arrow attempted, except without the inherent flaws and bugs which beset arrow.\",\n",
       " 'For instance, the answer to the original question:',\n",
       " \"There's a lot of standards which need addressing, including multiple RFCs and ISOs, to worry about.  Ever get them mixed up; not to worry, take a little look into dir(pendulum.constants) There's a bit more than RFC and ISO formats there, though.\",\n",
       " 'When we say local, though what do we mean?  Well I mean:',\n",
       " 'Presumably most of the rest of you mean somewhere else.',\n",
       " \"And on it goes.  Long story short: Pendulum attempts to do for date and time what requests did for HTTP.  It's worth consideration, particularly for both its ease of use and extensive documentation.\",\n",
       " 'By default, now() function returns output in the YYYY-MM-DD HH:MM:SS:MS format. Use the below sample script to get the current date and time in a Python script and print results on the screen. Create file getDateTime1.py with the below content.',\n",
       " 'The output looks like below:',\n",
       " 'Try the arrow module from http://crsmithdev.com/arrow/:',\n",
       " 'Or the UTC version:',\n",
       " 'To change its output, add .format():',\n",
       " 'For a specific timezone:',\n",
       " 'An hour ago:',\n",
       " 'Or if you want the gist.',\n",
       " 'Current time of a timezone',\n",
       " 'To get exactly 3 decimal points for milliseconds 11:34:23.751 run this:',\n",
       " 'More context:',\n",
       " 'I want to get the time with milliseconds. A simple way to get them:',\n",
       " 'But I want only milliseconds, right? The shortest way to get them:',\n",
       " 'Add or remove zeroes from the last multiplication to adjust number of decimal points, or just:',\n",
       " 'If you just want the current timestamp in ms (for example, to measure execution time), you can also use the \"timeit\" module:',\n",
       " \"You can use this function to get the time (unfortunately it doesn't say AM or PM):\",\n",
       " 'To get the hours, minutes, seconds and milliseconds to merge later, you can use these functions:',\n",
       " 'Hour:',\n",
       " 'Minute:',\n",
       " 'Second:',\n",
       " 'Millisecond:',\n",
       " 'You can  try the following',\n",
       " 'or',\n",
       " \"Because no one has mentioned it yet, and this is something I ran into recently... a pytz timezone's fromutc() method combined with datetime's utcnow() is the best way I've found to get a useful current time (and date) in any timezone.\",\n",
       " 'If all you want is the time, you can then get that with local_time.time().',\n",
       " 'Method1: Getting Current Date and Time from system datetime',\n",
       " 'The datetime module supplies classes for manipulating dates and times.',\n",
       " 'Code',\n",
       " 'Output will be like',\n",
       " 'Method2: Getting Current Date and Time if Network is available',\n",
       " \"urllib package helps us to handle the url's that means webpages. Here we collects data from the webpage http://just-the-time.appspot.com/ and parses dateime from the webpage using the package dateparser.\",\n",
       " 'Code',\n",
       " 'Output will be like',\n",
       " 'Method3: Getting Current Date and Time from Local Time of the Machine',\n",
       " \"Python's time module provides a function for getting local time from the number of seconds elapsed since the epoch called localtime(). ctime() function takes seconds passed since epoch as an argument and returns a string representing local time.\",\n",
       " 'Code',\n",
       " 'Output will be like',\n",
       " 'To subscribe to this RSS feed, copy and paste this URL into your RSS reader.',\n",
       " '\\nSite design / logo © 2024 Stack Exchange Inc; user contributions licensed under CC BY-SA.                    rev\\xa02024.3.28.7077\\n']"
      ]
     },
     "execution_count": 11,
     "metadata": {},
     "output_type": "execute_result"
    }
   ],
   "source": [
    "ans"
   ]
  },
  {
   "cell_type": "code",
   "execution_count": null,
   "id": "f3f898b3",
   "metadata": {},
   "outputs": [],
   "source": []
  }
 ],
 "metadata": {
  "kernelspec": {
   "display_name": "Python 3 (ipykernel)",
   "language": "python",
   "name": "python3"
  },
  "language_info": {
   "codemirror_mode": {
    "name": "ipython",
    "version": 3
   },
   "file_extension": ".py",
   "mimetype": "text/x-python",
   "name": "python",
   "nbconvert_exporter": "python",
   "pygments_lexer": "ipython3",
   "version": "3.11.5"
  }
 },
 "nbformat": 4,
 "nbformat_minor": 5
}
