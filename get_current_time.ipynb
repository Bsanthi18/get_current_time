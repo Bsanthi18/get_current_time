{
 "cells": [
  {
   "cell_type": "code",
   "execution_count": 1,
   "id": "4c773a43",
   "metadata": {},
   "outputs": [],
   "source": [
    "import requests\n",
    "\n",
    "from bs4 import BeautifulSoup\n",
    "\n",
    "import pandas as pd\n",
    "url=\"https://stackoverflow.com/questions/415511/how-do-i-get-the-current-time-in-python\""
   ]
  },
  {
   "cell_type": "code",
   "execution_count": 2,
   "id": "efa216f6",
   "metadata": {},
   "outputs": [],
   "source": [
    "response=requests.get(url)"
   ]
  },
  {
   "cell_type": "code",
   "execution_count": 3,
   "id": "3d8289ba",
   "metadata": {},
   "outputs": [
    {
     "name": "stdout",
     "output_type": "stream",
     "text": [
      "<class 'bytes'>\n"
     ]
    }
   ],
   "source": [
    "print(type(response.content))"
   ]
  },
  {
   "cell_type": "code",
   "execution_count": 4,
   "id": "f0464f99",
   "metadata": {},
   "outputs": [],
   "source": [
    "soup=BeautifulSoup(response.content,'html.parser')"
   ]
  },
  {
   "cell_type": "code",
   "execution_count": 13,
   "id": "03cfa852",
   "metadata": {},
   "outputs": [],
   "source": [
    "div=soup.find('div',class_='answercell post-layout--right')"
   ]
  },
  {
   "cell_type": "code",
   "execution_count": 14,
   "id": "f6a7062e",
   "metadata": {},
   "outputs": [
    {
     "data": {
      "text/plain": [
       "<div class=\"answercell post-layout--right\">\n",
       "<div class=\"s-prose js-post-body\" itemprop=\"text\">\n",
       "<p>Use <a href=\"https://docs.python.org/3/library/datetime.html\" rel=\"noreferrer\"><code>datetime</code></a>:</p>\n",
       "<pre><code>&gt;&gt;&gt; import datetime\n",
       "&gt;&gt;&gt; now = datetime.datetime.now()\n",
       "&gt;&gt;&gt; now\n",
       "datetime.datetime(2009, 1, 6, 15, 8, 24, 78915)\n",
       "&gt;&gt;&gt; print(now)\n",
       "2009-01-06 15:08:24.789150\n",
       "</code></pre>\n",
       "<p>For just the clock time without the date:</p>\n",
       "<pre><code>&gt;&gt;&gt; now.time()\n",
       "datetime.time(15, 8, 24, 78915)\n",
       "&gt;&gt;&gt; print(now.time())\n",
       "15:08:24.789150\n",
       "</code></pre>\n",
       "<hr/>\n",
       "<p>To save typing, you can import the <code>datetime</code> object from the <a href=\"https://docs.python.org/3/library/datetime.html\" rel=\"noreferrer\"><code>datetime</code></a> module:</p>\n",
       "<pre><code>&gt;&gt;&gt; from datetime import datetime\n",
       "</code></pre>\n",
       "<p>Then remove the prefix <code>datetime.</code> from all of the above.</p>\n",
       "</div>\n",
       "<div class=\"mt24\">\n",
       "<div class=\"d-flex fw-wrap ai-start jc-end gs8 gsy\">\n",
       "<time datetime=\"2009-01-06T04:57:05\" itemprop=\"dateCreated\"></time>\n",
       "<div class=\"flex--item mr16\" style=\"flex: 1 1 100px;\">\n",
       "<div class=\"js-post-menu pt2\" data-post-id=\"415519\" data-post-type-id=\"2\">\n",
       "<div class=\"d-flex gs8 s-anchors s-anchors__muted fw-wrap\">\n",
       "<div class=\"flex--item\">\n",
       "<a class=\"js-share-link js-gps-track\" data-controller=\"se-share-sheet\" data-gps-track=\"post.click({ item: 2, priv: 0, post_type: 2 })\" data-s-popover-placement=\"bottom-start\" data-se-share-sheet-license-name=\"CC BY-SA 4.0\" data-se-share-sheet-license-url=\"https%3a%2f%2fcreativecommons.org%2flicenses%2fby-sa%2f4.0%2f\" data-se-share-sheet-location=\"2\" data-se-share-sheet-post-type=\"answer\" data-se-share-sheet-social=\"facebook twitter devto\" data-se-share-sheet-subtitle=\"\" data-se-share-sheet-title=\"Share a link to this answer\" href=\"/a/415519\" itemprop=\"url\" rel=\"nofollow\" title=\"Short permalink to this answer\">Share</a>\n",
       "</div>\n",
       "<div class=\"flex--item\">\n",
       "<a class=\"js-suggest-edit-post js-gps-track\" data-gps-track=\"post.click({ item: 6, priv: 0, post_type: 2 })\" href=\"/posts/415519/edit\" title=\"\">Improve this answer</a>\n",
       "</div>\n",
       "<div class=\"flex--item\">\n",
       "<button aria-controls=\"\" class=\"s-btn s-btn__link js-follow-post js-follow-answer js-gps-track\" data-controller=\"s-tooltip \" data-gps-track=\"post.click({ item: 14, priv: 0, post_type: 2 })\" data-s-popover-placement=\"bottom\" data-s-tooltip-placement=\"bottom\" id=\"btnFollowPost-415519\" title=\"Follow this answer to receive notifications\" type=\"button\">\n",
       "                        Follow\n",
       "                    </button>\n",
       "</div>\n",
       "</div>\n",
       "<div class=\"js-menu-popup-container\"></div>\n",
       "</div>\n",
       "</div>\n",
       "<div class=\"post-signature flex--item fl0\">\n",
       "<div class=\"user-info user-hover\">\n",
       "<div class=\"d-flex\">\n",
       "<div class=\"user-action-time fl-grow1\">\n",
       "<a class=\"js-gps-track\" data-gps-track=\"post.click({ item: 4, priv: 0, post_type: 2 })\" href=\"/posts/415519/revisions\" title=\"show all edits to this post\">edited <span class=\"relativetime\" title=\"2022-05-31 08:08:55Z\">May 31, 2022 at 8:08</span></a>\n",
       "</div>\n",
       "</div>\n",
       "<div class=\"user-gravatar32\">\n",
       "<a href=\"/users/365102/mateen-ulhaq\"><div class=\"gravatar-wrapper-32\"><img alt=\"Mateen Ulhaq's user avatar\" class=\"bar-sm\" height=\"32\" src=\"https://i.stack.imgur.com/RoPPo.jpg?s=64&amp;g=1\" width=\"32\"/></div></a>\n",
       "</div>\n",
       "<div class=\"user-details\">\n",
       "<a href=\"/users/365102/mateen-ulhaq\">Mateen Ulhaq</a>\n",
       "<div class=\"-flair\">\n",
       "<span class=\"reputation-score\" dir=\"ltr\" title=\"reputation score 25,826\">25.8k</span><span aria-hidden=\"true\" title=\"20 gold badges\"><span class=\"badge1\"></span><span class=\"badgecount\">20</span></span><span class=\"v-visible-sr\">20 gold badges</span><span aria-hidden=\"true\" title=\"111 silver badges\"><span class=\"badge2\"></span><span class=\"badgecount\">111</span></span><span class=\"v-visible-sr\">111 silver badges</span><span aria-hidden=\"true\" title=\"143 bronze badges\"><span class=\"badge3\"></span><span class=\"badgecount\">143</span></span><span class=\"v-visible-sr\">143 bronze badges</span>\n",
       "</div>\n",
       "</div>\n",
       "</div>\n",
       "</div>\n",
       "<div class=\"post-signature flex--item fl0\">\n",
       "<div class=\"user-info\">\n",
       "<div class=\"d-flex\">\n",
       "<div class=\"user-action-time fl-grow1\">\n",
       "            answered <span class=\"relativetime\" title=\"2009-01-06 04:57:05Z\">Jan 6, 2009 at 4:57</span>\n",
       "</div>\n",
       "</div>\n",
       "<div class=\"user-gravatar32\">\n",
       "<a href=\"/users/1057/harley-holcombe\"><div class=\"gravatar-wrapper-32\"><img alt=\"Harley Holcombe's user avatar\" class=\"bar-sm\" height=\"32\" src=\"https://www.gravatar.com/avatar/e5778b659d144e38ed982c3f4e566089?s=64&amp;d=identicon&amp;r=PG\" width=\"32\"/></div></a>\n",
       "</div>\n",
       "<div class=\"user-details\" itemprop=\"author\" itemscope=\"\" itemtype=\"http://schema.org/Person\">\n",
       "<a href=\"/users/1057/harley-holcombe\">Harley Holcombe</a><span class=\"d-none\" itemprop=\"name\">Harley Holcombe</span>\n",
       "<div class=\"-flair\">\n",
       "<span class=\"reputation-score\" dir=\"ltr\" title=\"reputation score 178,830\">179k</span><span aria-hidden=\"true\" title=\"15 gold badges\"><span class=\"badge1\"></span><span class=\"badgecount\">15</span></span><span class=\"v-visible-sr\">15 gold badges</span><span aria-hidden=\"true\" title=\"70 silver badges\"><span class=\"badge2\"></span><span class=\"badgecount\">70</span></span><span class=\"v-visible-sr\">70 silver badges</span><span aria-hidden=\"true\" title=\"63 bronze badges\"><span class=\"badge3\"></span><span class=\"badgecount\">63</span></span><span class=\"v-visible-sr\">63 bronze badges</span>\n",
       "</div>\n",
       "</div>\n",
       "</div>\n",
       "</div>\n",
       "</div>\n",
       "</div>\n",
       "</div>"
      ]
     },
     "execution_count": 14,
     "metadata": {},
     "output_type": "execute_result"
    }
   ],
   "source": [
    "div"
   ]
  },
  {
   "cell_type": "code",
   "execution_count": 16,
   "id": "e3283502",
   "metadata": {},
   "outputs": [],
   "source": [
    "code=div.find_all('code')"
   ]
  },
  {
   "cell_type": "code",
   "execution_count": 17,
   "id": "e3760716",
   "metadata": {},
   "outputs": [
    {
     "data": {
      "text/plain": [
       "[<code>datetime</code>,\n",
       " <code>&gt;&gt;&gt; import datetime\n",
       " &gt;&gt;&gt; now = datetime.datetime.now()\n",
       " &gt;&gt;&gt; now\n",
       " datetime.datetime(2009, 1, 6, 15, 8, 24, 78915)\n",
       " &gt;&gt;&gt; print(now)\n",
       " 2009-01-06 15:08:24.789150\n",
       " </code>,\n",
       " <code>&gt;&gt;&gt; now.time()\n",
       " datetime.time(15, 8, 24, 78915)\n",
       " &gt;&gt;&gt; print(now.time())\n",
       " 15:08:24.789150\n",
       " </code>,\n",
       " <code>datetime</code>,\n",
       " <code>datetime</code>,\n",
       " <code>&gt;&gt;&gt; from datetime import datetime\n",
       " </code>,\n",
       " <code>datetime.</code>]"
      ]
     },
     "execution_count": 17,
     "metadata": {},
     "output_type": "execute_result"
    }
   ],
   "source": [
    "code"
   ]
  },
  {
   "cell_type": "code",
   "execution_count": null,
   "id": "f207af40",
   "metadata": {},
   "outputs": [],
   "source": []
  }
 ],
 "metadata": {
  "kernelspec": {
   "display_name": "Python 3 (ipykernel)",
   "language": "python",
   "name": "python3"
  },
  "language_info": {
   "codemirror_mode": {
    "name": "ipython",
    "version": 3
   },
   "file_extension": ".py",
   "mimetype": "text/x-python",
   "name": "python",
   "nbconvert_exporter": "python",
   "pygments_lexer": "ipython3",
   "version": "3.11.5"
  }
 },
 "nbformat": 4,
 "nbformat_minor": 5
}
